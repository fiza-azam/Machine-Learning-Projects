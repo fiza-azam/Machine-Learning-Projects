{
  "nbformat": 4,
  "nbformat_minor": 0,
  "metadata": {
    "colab": {
      "name": "Project Age and Height - Linear Regression.ipynb",
      "provenance": [],
      "collapsed_sections": [],
      "mount_file_id": "1iH6EVxSxBa0ImuRa3jT8I15irvcfweoR",
      "authorship_tag": "ABX9TyNO3bDQVUtBdj0z65slH7EU",
      "include_colab_link": true
    },
    "kernelspec": {
      "name": "python3",
      "display_name": "Python 3"
    },
    "language_info": {
      "name": "python"
    }
  },
  "cells": [
    {
      "cell_type": "markdown",
      "metadata": {
        "id": "view-in-github",
        "colab_type": "text"
      },
      "source": [
        "<a href=\"https://colab.research.google.com/github/fiza-azam/Machine-Learning-Projects/blob/main/Project_Age_and_Height_Linear_Regression.ipynb\" target=\"_parent\"><img src=\"https://colab.research.google.com/assets/colab-badge.svg\" alt=\"Open In Colab\"/></a>"
      ]
    },
    {
      "cell_type": "code",
      "metadata": {
        "colab": {
          "base_uri": "https://localhost:8080/",
          "height": 423
        },
        "id": "p6qpnl_olQpX",
        "outputId": "35a35cde-47a5-4e15-a731-683eff0bf6fb"
      },
      "source": [
        "import pandas as pd\n",
        "raw_data = pd.read_pickle('/content/drive/MyDrive/AgesAndHeights.pkl')\n",
        "raw_data"
      ],
      "execution_count": null,
      "outputs": [
        {
          "output_type": "execute_result",
          "data": {
            "text/html": [
              "<div>\n",
              "<style scoped>\n",
              "    .dataframe tbody tr th:only-of-type {\n",
              "        vertical-align: middle;\n",
              "    }\n",
              "\n",
              "    .dataframe tbody tr th {\n",
              "        vertical-align: top;\n",
              "    }\n",
              "\n",
              "    .dataframe thead th {\n",
              "        text-align: right;\n",
              "    }\n",
              "</style>\n",
              "<table border=\"1\" class=\"dataframe\">\n",
              "  <thead>\n",
              "    <tr style=\"text-align: right;\">\n",
              "      <th></th>\n",
              "      <th>Age</th>\n",
              "      <th>Height</th>\n",
              "    </tr>\n",
              "  </thead>\n",
              "  <tbody>\n",
              "    <tr>\n",
              "      <th>0</th>\n",
              "      <td>14.767874</td>\n",
              "      <td>59.627484</td>\n",
              "    </tr>\n",
              "    <tr>\n",
              "      <th>1</th>\n",
              "      <td>3.107671</td>\n",
              "      <td>36.146453</td>\n",
              "    </tr>\n",
              "    <tr>\n",
              "      <th>2</th>\n",
              "      <td>7.266917</td>\n",
              "      <td>46.912878</td>\n",
              "    </tr>\n",
              "    <tr>\n",
              "      <th>3</th>\n",
              "      <td>1.815180</td>\n",
              "      <td>29.125660</td>\n",
              "    </tr>\n",
              "    <tr>\n",
              "      <th>4</th>\n",
              "      <td>16.753758</td>\n",
              "      <td>68.170414</td>\n",
              "    </tr>\n",
              "    <tr>\n",
              "      <th>...</th>\n",
              "      <td>...</td>\n",
              "      <td>...</td>\n",
              "    </tr>\n",
              "    <tr>\n",
              "      <th>95</th>\n",
              "      <td>7.323712</td>\n",
              "      <td>46.857505</td>\n",
              "    </tr>\n",
              "    <tr>\n",
              "      <th>96</th>\n",
              "      <td>5.591509</td>\n",
              "      <td>39.339990</td>\n",
              "    </tr>\n",
              "    <tr>\n",
              "      <th>97</th>\n",
              "      <td>2.625606</td>\n",
              "      <td>32.918925</td>\n",
              "    </tr>\n",
              "    <tr>\n",
              "      <th>98</th>\n",
              "      <td>5.519293</td>\n",
              "      <td>40.704154</td>\n",
              "    </tr>\n",
              "    <tr>\n",
              "      <th>99</th>\n",
              "      <td>13.117413</td>\n",
              "      <td>55.177407</td>\n",
              "    </tr>\n",
              "  </tbody>\n",
              "</table>\n",
              "<p>100 rows × 2 columns</p>\n",
              "</div>"
            ],
            "text/plain": [
              "          Age     Height\n",
              "0   14.767874  59.627484\n",
              "1    3.107671  36.146453\n",
              "2    7.266917  46.912878\n",
              "3    1.815180  29.125660\n",
              "4   16.753758  68.170414\n",
              "..        ...        ...\n",
              "95   7.323712  46.857505\n",
              "96   5.591509  39.339990\n",
              "97   2.625606  32.918925\n",
              "98   5.519293  40.704154\n",
              "99  13.117413  55.177407\n",
              "\n",
              "[100 rows x 2 columns]"
            ]
          },
          "metadata": {
            "tags": []
          },
          "execution_count": 4
        }
      ]
    },
    {
      "cell_type": "code",
      "metadata": {
        "colab": {
          "base_uri": "https://localhost:8080/",
          "height": 333
        },
        "id": "m_ndvZ1CmMDu",
        "outputId": "3e75296f-4ec2-45f4-b5e4-060f1cde1237"
      },
      "source": [
        "raw_data.hist()\n",
        "# Y axis refers to frequency in both charts"
      ],
      "execution_count": null,
      "outputs": [
        {
          "output_type": "execute_result",
          "data": {
            "text/plain": [
              "array([[<matplotlib.axes._subplots.AxesSubplot object at 0x7f44a98dc0d0>,\n",
              "        <matplotlib.axes._subplots.AxesSubplot object at 0x7f449f1fcd90>]],\n",
              "      dtype=object)"
            ]
          },
          "metadata": {
            "tags": []
          },
          "execution_count": 5
        },
        {
          "output_type": "display_data",
          "data": {
            "image/png": "[encoded data removed]",
            "text/plain": [
              "<Figure size 432x288 with 2 Axes>"
            ]
          },
          "metadata": {
            "tags": [],
            "needs_background": "light"
          }
        }
      ]
    },
    {
      "cell_type": "code",
      "metadata": {
        "colab": {
          "base_uri": "https://localhost:8080/",
          "height": 423
        },
        "id": "SQ0l568Nm816",
        "outputId": "621d784c-f345-44bd-d69c-5b03e343282f"
      },
      "source": [
        "# Removing the records with age equal to zero\n",
        "clean_data = raw_data[raw_data['Age'] > 0]\n",
        "clean_data"
      ],
      "execution_count": null,
      "outputs": [
        {
          "output_type": "execute_result",
          "data": {
            "text/html": [
              "<div>\n",
              "<style scoped>\n",
              "    .dataframe tbody tr th:only-of-type {\n",
              "        vertical-align: middle;\n",
              "    }\n",
              "\n",
              "    .dataframe tbody tr th {\n",
              "        vertical-align: top;\n",
              "    }\n",
              "\n",
              "    .dataframe thead th {\n",
              "        text-align: right;\n",
              "    }\n",
              "</style>\n",
              "<table border=\"1\" class=\"dataframe\">\n",
              "  <thead>\n",
              "    <tr style=\"text-align: right;\">\n",
              "      <th></th>\n",
              "      <th>Age</th>\n",
              "      <th>Height</th>\n",
              "    </tr>\n",
              "  </thead>\n",
              "  <tbody>\n",
              "    <tr>\n",
              "      <th>0</th>\n",
              "      <td>14.767874</td>\n",
              "      <td>59.627484</td>\n",
              "    </tr>\n",
              "    <tr>\n",
              "      <th>1</th>\n",
              "      <td>3.107671</td>\n",
              "      <td>36.146453</td>\n",
              "    </tr>\n",
              "    <tr>\n",
              "      <th>2</th>\n",
              "      <td>7.266917</td>\n",
              "      <td>46.912878</td>\n",
              "    </tr>\n",
              "    <tr>\n",
              "      <th>3</th>\n",
              "      <td>1.815180</td>\n",
              "      <td>29.125660</td>\n",
              "    </tr>\n",
              "    <tr>\n",
              "      <th>4</th>\n",
              "      <td>16.753758</td>\n",
              "      <td>68.170414</td>\n",
              "    </tr>\n",
              "    <tr>\n",
              "      <th>...</th>\n",
              "      <td>...</td>\n",
              "      <td>...</td>\n",
              "    </tr>\n",
              "    <tr>\n",
              "      <th>95</th>\n",
              "      <td>7.323712</td>\n",
              "      <td>46.857505</td>\n",
              "    </tr>\n",
              "    <tr>\n",
              "      <th>96</th>\n",
              "      <td>5.591509</td>\n",
              "      <td>39.339990</td>\n",
              "    </tr>\n",
              "    <tr>\n",
              "      <th>97</th>\n",
              "      <td>2.625606</td>\n",
              "      <td>32.918925</td>\n",
              "    </tr>\n",
              "    <tr>\n",
              "      <th>98</th>\n",
              "      <td>5.519293</td>\n",
              "      <td>40.704154</td>\n",
              "    </tr>\n",
              "    <tr>\n",
              "      <th>99</th>\n",
              "      <td>13.117413</td>\n",
              "      <td>55.177407</td>\n",
              "    </tr>\n",
              "  </tbody>\n",
              "</table>\n",
              "<p>93 rows × 2 columns</p>\n",
              "</div>"
            ],
            "text/plain": [
              "          Age     Height\n",
              "0   14.767874  59.627484\n",
              "1    3.107671  36.146453\n",
              "2    7.266917  46.912878\n",
              "3    1.815180  29.125660\n",
              "4   16.753758  68.170414\n",
              "..        ...        ...\n",
              "95   7.323712  46.857505\n",
              "96   5.591509  39.339990\n",
              "97   2.625606  32.918925\n",
              "98   5.519293  40.704154\n",
              "99  13.117413  55.177407\n",
              "\n",
              "[93 rows x 2 columns]"
            ]
          },
          "metadata": {
            "tags": []
          },
          "execution_count": 6
        }
      ]
    },
    {
      "cell_type": "code",
      "metadata": {
        "colab": {
          "base_uri": "https://localhost:8080/",
          "height": 313
        },
        "id": "kgDiZEbynwAt",
        "outputId": "257db6c3-8d00-4978-f4ab-557fed1259c5"
      },
      "source": [
        "#Plotting clean data\n",
        "import matplotlib.pyplot as plt\n",
        "ages = clean_data['Age']\n",
        "heights = clean_data['Height']\n",
        "plt.scatter(ages, heights, label='Raw Data')\n",
        "plt.title(\"Height Vs Age\")\n",
        "plt.xlabel('Age[Years]')\n",
        "plt.ylabel('Height[Inches]')\n",
        "plt.legend()"
      ],
      "execution_count": null,
      "outputs": [
        {
          "output_type": "execute_result",
          "data": {
            "text/plain": [
              "<matplotlib.legend.Legend at 0x7f449e1c31d0>"
            ]
          },
          "metadata": {
            "tags": []
          },
          "execution_count": 7
        },
        {
          "output_type": "display_data",
          "data": {
            "image/png": "[encoded data removed]",
            "text/plain": [
              "<Figure size 432x288 with 1 Axes>"
            ]
          },
          "metadata": {
            "tags": [],
            "needs_background": "light"
          }
        }
      ]
    },
    {
      "cell_type": "code",
      "metadata": {
        "colab": {
          "base_uri": "https://localhost:8080/"
        },
        "id": "ddqjWDnxrvbT",
        "outputId": "d7583b1f-93dc-4f51-b2b9-24e1160b8ca1"
      },
      "source": [
        "#Hypothesis\n",
        "parameters = {'y_intercept' : 40, 'slope':4 }\n",
        "def y_hat(age, params):\n",
        "  y_intercept = params['y_intercept']\n",
        "  slope = params['slope']\n",
        "  return y_intercept + slope * age\n",
        "\n",
        "y_hat(5, parameters)"
      ],
      "execution_count": null,
      "outputs": [
        {
          "output_type": "execute_result",
          "data": {
            "text/plain": [
              "60"
            ]
          },
          "metadata": {
            "tags": []
          },
          "execution_count": 8
        }
      ]
    },
    {
      "cell_type": "markdown",
      "metadata": {
        "id": "b3qBzBXtEwe_"
      },
      "source": [
        "<h3>Linear Regression using Least Square Method</h3>"
      ]
    },
    {
      "cell_type": "markdown",
      "metadata": {
        "id": "VbZJfV5ZEyvq"
      },
      "source": [
        "![image.png](data:image/png;base64,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)"
      ]
    },
    {
      "cell_type": "code",
      "metadata": {
        "colab": {
          "base_uri": "https://localhost:8080/"
        },
        "id": "IX0paP-X9NJN",
        "outputId": "330e3359-d64a-4e7d-bdb2-a0d879281d3b"
      },
      "source": [
        "def learn_parameters(data, params):\n",
        "  x,y = data['Age'], data['Height']\n",
        "  x_bar, y_bar = x.mean(), y.mean()\n",
        "  x,y = x.to_numpy(), y.to_numpy()\n",
        "  slope = sum((x-x_bar)*(y-y_bar))/sum((x-x_bar)**2)\n",
        "  y_intercept = y_bar - (slope*x_bar)\n",
        "  \n",
        "  #update parameters\n",
        "  params['y_intercept'] = y_intercept\n",
        "  params['slope'] = slope\n",
        "\n",
        "new_params = {'y_intercept':0, 'slope':0}\n",
        "learn_parameters(clean_data, new_params)\n",
        "new_params\n"
      ],
      "execution_count": null,
      "outputs": [
        {
          "output_type": "execute_result",
          "data": {
            "text/plain": [
              "{'slope': 2.0014168989106293, 'y_intercept': 29.96185761461584}"
            ]
          },
          "metadata": {
            "tags": []
          },
          "execution_count": 9
        }
      ]
    },
    {
      "cell_type": "code",
      "metadata": {
        "colab": {
          "base_uri": "https://localhost:8080/"
        },
        "id": "R5BOP7mTLl-G",
        "outputId": "4796fe8d-63fd-4b96-c676-de479a3cb3d7"
      },
      "source": [
        "#untrain Predictions using dummy data\n",
        "demo_ages = list(range(19)) #dummy ages\n",
        "untrained_predictions = [ y_hat(x,parameters) for x in demo_ages] #saving result of y_hat as a list for each age\n",
        "print(untrained_predictions) #printing predicted values on params slope = 4,y_intercept = 40"
      ],
      "execution_count": null,
      "outputs": [
        {
          "output_type": "stream",
          "text": [
            "[40, 44, 48, 52, 56, 60, 64, 68, 72, 76, 80, 84, 88, 92, 96, 100, 104, 108, 112]\n"
          ],
          "name": "stdout"
        }
      ]
    },
    {
      "cell_type": "code",
      "metadata": {
        "colab": {
          "base_uri": "https://localhost:8080/",
          "height": 313
        },
        "id": "UIfYdn2rMl7K",
        "outputId": "5dc53e91-54e5-415b-bfda-950eb9ac7d44"
      },
      "source": [
        "#Plotting Untrained Predictions\n",
        "ages = clean_data['Age']\n",
        "height = clean_data['Height']\n",
        "plt.scatter(ages, heights, label=\"Raw Data\")\n",
        "plt.plot(demo_ages, untrained_predictions, label=\"Untrained Predictions\", color=\"green\")\n",
        "plt.title(\"Height Vs Age\")\n",
        "plt.xlabel('Age[Years]')\n",
        "plt.ylabel('Height[Inches]')\n",
        "plt.legend()"
      ],
      "execution_count": null,
      "outputs": [
        {
          "output_type": "execute_result",
          "data": {
            "text/plain": [
              "<matplotlib.legend.Legend at 0x7f449ddb0690>"
            ]
          },
          "metadata": {
            "tags": []
          },
          "execution_count": 14
        },
        {
          "output_type": "display_data",
          "data": {
            "image/png": "[encoded data removed]",
            "text/plain": [
              "<Figure size 432x288 with 1 Axes>"
            ]
          },
          "metadata": {
            "tags": [],
            "needs_background": "light"
          }
        }
      ]
    },
    {
      "cell_type": "code",
      "metadata": {
        "colab": {
          "base_uri": "https://localhost:8080/",
          "height": 350
        },
        "id": "gi0zlCxlOqKz",
        "outputId": "2b3564d4-9191-4064-e439-a3cb6fe5b1d2"
      },
      "source": [
        "trained_predictions = [ y_hat(x,new_params) for x in demo_ages] #traning model on optimized parameters slope and y_intercept\n",
        "print(trained_predictions)\n",
        "\n",
        "plt.scatter(ages, heights, label=\"Raw Data\")\n",
        "plt.plot(demo_ages, untrained_predictions, label=\"Untrained Predictions\", color=\"green\")\n",
        "plt.plot(demo_ages, trained_predictions, label=\"Trained Predictions\", color=\"red\") #Plotting results of trained model\n",
        "plt.title(\"Height Vs Age\")\n",
        "plt.xlabel('Age[Years]')\n",
        "plt.ylabel('Height[Inches]')\n",
        "plt.legend()"
      ],
      "execution_count": null,
      "outputs": [
        {
          "output_type": "stream",
          "text": [
            "[29.96185761461584, 31.96327451352647, 33.9646914124371, 35.96610831134773, 37.96752521025836, 39.96894210916899, 41.97035900807962, 43.971775906990246, 45.97319280590088, 47.974609704811506, 49.97602660372213, 51.97744350263277, 53.97886040154339, 55.98027730045402, 57.981694199364654, 59.98311109827528, 61.98452799718591, 63.98594489609654, 65.98736179500717]\n"
          ],
          "name": "stdout"
        },
        {
          "output_type": "execute_result",
          "data": {
            "text/plain": [
              "<matplotlib.legend.Legend at 0x7f449dcd4a90>"
            ]
          },
          "metadata": {
            "tags": []
          },
          "execution_count": 15
        },
        {
          "output_type": "display_data",
          "data": {
            "image/png": "[encoded data removed]",
            "text/plain": [
              "<Figure size 432x288 with 1 Axes>"
            ]
          },
          "metadata": {
            "tags": [],
            "needs_background": "light"
          }
        }
      ]
    },
    {
      "cell_type": "markdown",
      "metadata": {
        "id": "l2ZHPgF6Xvr7"
      },
      "source": [
        "<h2> Checking Goodness of Fit using R square Method </h2>\n",
        "R square is a statistical measure of how close the data are to the fitted regression line"
      ]
    },
    {
      "cell_type": "markdown",
      "metadata": {
        "id": "bsoOzsd2Y-Ex"
      },
      "source": [
        "<img src=https://miro.medium.com/max/1200/1*_HbrAW-tMRBli6ASD5Bttw.png width = 50% height = 100>"
      ]
    },
    {
      "cell_type": "code",
      "metadata": {
        "colab": {
          "base_uri": "https://localhost:8080/"
        },
        "id": "jXhaggI5XvSQ",
        "outputId": "45365e2d-777b-4717-f8fc-37f26f499058"
      },
      "source": [
        "def R_square(data, params):\n",
        "  x,y = data['Age'], data['Height']\n",
        "  y_bar = y.mean()\n",
        "  x,y = x.to_numpy(), y.to_numpy()\n",
        "  y_pred = params['y_intercept'] + params['slope']*x\n",
        "  ss_r = sum((y - y_pred)**2)\n",
        "  ss_t = sum((y - y_bar)**2)\n",
        "  r_square = 1 - (ss_r/ss_t)\n",
        "  print(r_square)\n",
        "R_square(clean_data, new_params)"
      ],
      "execution_count": null,
      "outputs": [
        {
          "output_type": "stream",
          "text": [
            "0.954958596651655\n"
          ],
          "name": "stdout"
        }
      ]
    },
    {
      "cell_type": "code",
      "metadata": {
        "colab": {
          "base_uri": "https://localhost:8080/"
        },
        "id": "cjfq-VN0eUSR",
        "outputId": "c14cca52-d3da-40b2-ba8f-ebde64b2877b"
      },
      "source": [
        "#Using built in library to check the result of above R_square Code\n",
        "from sklearn.linear_model import LinearRegression\n",
        "from sklearn.metrics import mean_squared_error\n",
        "\n",
        "X = clean_data['Age'].values\n",
        "Y = clean_data['Height'].values\n",
        "X= X.reshape((93,1))\n",
        "reg = LinearRegression()\n",
        "reg = reg.fit(X,Y)\n",
        "Y_pred = reg.predict(X)\n",
        "\n",
        "r2Score = reg.score(X,Y)\n",
        "print(r2Score)"
      ],
      "execution_count": null,
      "outputs": [
        {
          "output_type": "stream",
          "text": [
            "0.954958596651655\n"
          ],
          "name": "stdout"
        }
      ]
    },
    {
      "cell_type": "code",
      "metadata": {
        "colab": {
          "base_uri": "https://localhost:8080/"
        },
        "id": "xG0TFR5vUu9g",
        "outputId": "a75fc3b9-e5ab-454c-c994-98d4ed08bd66"
      },
      "source": [
        "#Testing model on a new data\n",
        "new_age = int(input(\"Enter age to predict height: \"))\n",
        "y_hat(new_age, new_params)"
      ],
      "execution_count": null,
      "outputs": [
        {
          "output_type": "stream",
          "text": [
            "Enter age to predict height: 22\n"
          ],
          "name": "stdout"
        },
        {
          "output_type": "execute_result",
          "data": {
            "text/plain": [
              "73.99302939064968"
            ]
          },
          "metadata": {
            "tags": []
          },
          "execution_count": 16
        }
      ]
    },
    {
      "cell_type": "markdown",
      "metadata": {
        "id": "2XX6I6_8g4o0"
      },
      "source": [
        "References <br>\n",
        "[A Practical Tutorial to Simple Linear Regression Using Python](https://www.analyticsvidhya.com/blog/2021/03/a-practical-tutorial-to-simple-linear-regression-using-python/) <br>\n",
        "[Linear Regression Algorithm | Linear Regression in Python | Machine Learning Algorithm | Edureka](https://www.youtube.com/watch?v=E5RjzSK0fvY)\n"
      ]
    }
  ]
}