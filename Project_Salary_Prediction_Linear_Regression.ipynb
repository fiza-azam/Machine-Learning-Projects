{
  "nbformat": 4,
  "nbformat_minor": 0,
  "metadata": {
    "colab": {
      "name": "Project Salary Prediction - Linear Regression.ipynb",
      "provenance": [],
      "mount_file_id": "1BVs85xtfkXnQoIMEY1eWqMjugZ6mIa9w",
      "authorship_tag": "ABX9TyMcRMWEMKS8BTwjP2JqzoqG",
      "include_colab_link": true
    },
    "kernelspec": {
      "name": "python3",
      "display_name": "Python 3"
    },
    "language_info": {
      "name": "python"
    }
  },
  "cells": [
    {
      "cell_type": "markdown",
      "metadata": {
        "id": "view-in-github",
        "colab_type": "text"
      },
      "source": [
        "<a href=\"https://colab.research.google.com/github/fiza-azam/Machine-Learning-Projects/blob/main/Project_Salary_Prediction_Linear_Regression.ipynb\" target=\"_parent\"><img src=\"https://colab.research.google.com/assets/colab-badge.svg\" alt=\"Open In Colab\"/></a>"
      ]
    },
    {
      "cell_type": "code",
      "metadata": {
        "colab": {
          "base_uri": "https://localhost:8080/",
          "height": 363
        },
        "id": "XhGt-NeokS6X",
        "outputId": "dcdf97e3-6a9d-4337-848a-f62baeb80e1b"
      },
      "source": [
        "import pandas as pd\n",
        "data = pd.read_csv('/content/drive/MyDrive/Salary_Data.csv')\n",
        "data.head(10)\n"
      ],
      "execution_count": 12,
      "outputs": [
        {
          "output_type": "execute_result",
          "data": {
            "text/html": [
              "<div>\n",
              "<style scoped>\n",
              "    .dataframe tbody tr th:only-of-type {\n",
              "        vertical-align: middle;\n",
              "    }\n",
              "\n",
              "    .dataframe tbody tr th {\n",
              "        vertical-align: top;\n",
              "    }\n",
              "\n",
              "    .dataframe thead th {\n",
              "        text-align: right;\n",
              "    }\n",
              "</style>\n",
              "<table border=\"1\" class=\"dataframe\">\n",
              "  <thead>\n",
              "    <tr style=\"text-align: right;\">\n",
              "      <th></th>\n",
              "      <th>YearsExperience</th>\n",
              "      <th>Salary</th>\n",
              "    </tr>\n",
              "  </thead>\n",
              "  <tbody>\n",
              "    <tr>\n",
              "      <th>0</th>\n",
              "      <td>1.1</td>\n",
              "      <td>39343.0</td>\n",
              "    </tr>\n",
              "    <tr>\n",
              "      <th>1</th>\n",
              "      <td>1.3</td>\n",
              "      <td>46205.0</td>\n",
              "    </tr>\n",
              "    <tr>\n",
              "      <th>2</th>\n",
              "      <td>1.5</td>\n",
              "      <td>37731.0</td>\n",
              "    </tr>\n",
              "    <tr>\n",
              "      <th>3</th>\n",
              "      <td>2.0</td>\n",
              "      <td>43525.0</td>\n",
              "    </tr>\n",
              "    <tr>\n",
              "      <th>4</th>\n",
              "      <td>2.2</td>\n",
              "      <td>39891.0</td>\n",
              "    </tr>\n",
              "    <tr>\n",
              "      <th>5</th>\n",
              "      <td>2.9</td>\n",
              "      <td>56642.0</td>\n",
              "    </tr>\n",
              "    <tr>\n",
              "      <th>6</th>\n",
              "      <td>3.0</td>\n",
              "      <td>60150.0</td>\n",
              "    </tr>\n",
              "    <tr>\n",
              "      <th>7</th>\n",
              "      <td>3.2</td>\n",
              "      <td>54445.0</td>\n",
              "    </tr>\n",
              "    <tr>\n",
              "      <th>8</th>\n",
              "      <td>3.2</td>\n",
              "      <td>64445.0</td>\n",
              "    </tr>\n",
              "    <tr>\n",
              "      <th>9</th>\n",
              "      <td>3.7</td>\n",
              "      <td>57189.0</td>\n",
              "    </tr>\n",
              "  </tbody>\n",
              "</table>\n",
              "</div>"
            ],
            "text/plain": [
              "   YearsExperience   Salary\n",
              "0              1.1  39343.0\n",
              "1              1.3  46205.0\n",
              "2              1.5  37731.0\n",
              "3              2.0  43525.0\n",
              "4              2.2  39891.0\n",
              "5              2.9  56642.0\n",
              "6              3.0  60150.0\n",
              "7              3.2  54445.0\n",
              "8              3.2  64445.0\n",
              "9              3.7  57189.0"
            ]
          },
          "metadata": {
            "tags": []
          },
          "execution_count": 12
        }
      ]
    },
    {
      "cell_type": "code",
      "metadata": {
        "colab": {
          "base_uri": "https://localhost:8080/",
          "height": 333
        },
        "id": "_ugmITKFmU-X",
        "outputId": "270b6cab-ca32-4f1b-cd94-0d2fc20b01aa"
      },
      "source": [
        "data.hist()"
      ],
      "execution_count": 13,
      "outputs": [
        {
          "output_type": "execute_result",
          "data": {
            "text/plain": [
              "array([[<matplotlib.axes._subplots.AxesSubplot object at 0x7f0a3ba6be90>,\n",
              "        <matplotlib.axes._subplots.AxesSubplot object at 0x7f0a38d72dd0>]],\n",
              "      dtype=object)"
            ]
          },
          "metadata": {
            "tags": []
          },
          "execution_count": 13
        },
        {
          "output_type": "display_data",
          "data": {
            "image/png": "[encoded data removed]",
            "text/plain": [
              "<Figure size 432x288 with 2 Axes>"
            ]
          },
          "metadata": {
            "tags": [],
            "needs_background": "light"
          }
        }
      ]
    },
    {
      "cell_type": "code",
      "metadata": {
        "colab": {
          "base_uri": "https://localhost:8080/",
          "height": 313
        },
        "id": "bfza4UaWqHkJ",
        "outputId": "31532773-84bd-4626-952c-bfbb8886408b"
      },
      "source": [
        "import matplotlib.pyplot as plt\n",
        "salary = data['Salary']\n",
        "experience = data['YearsExperience']\n",
        "plt.scatter(experience, salary, label='Salary Data')\n",
        "plt.title(\"Salary vs Experience\")\n",
        "plt.xlabel('Years Experience')\n",
        "plt.ylabel('Salary')\n",
        "plt.legend()"
      ],
      "execution_count": 24,
      "outputs": [
        {
          "output_type": "execute_result",
          "data": {
            "text/plain": [
              "<matplotlib.legend.Legend at 0x7f0a35564250>"
            ]
          },
          "metadata": {
            "tags": []
          },
          "execution_count": 24
        },
        {
          "output_type": "display_data",
          "data": {
            "image/png": "[encoded data removed]",
            "text/plain": [
              "<Figure size 432x288 with 1 Axes>"
            ]
          },
          "metadata": {
            "tags": [],
            "needs_background": "light"
          }
        }
      ]
    },
    {
      "cell_type": "code",
      "metadata": {
        "colab": {
          "base_uri": "https://localhost:8080/",
          "height": 517
        },
        "id": "URKi5OU4pHFH",
        "outputId": "d6504061-0d6a-456b-c949-e7aead2ee0c3"
      },
      "source": [
        "fig = px.line(data, x = 'YearsExperience', y = 'Salary', title='Salary vs Experience Data', height=500, width=500)\n",
        "fig.show()"
      ],
      "execution_count": 21,
      "outputs": [
        {
          "output_type": "display_data",
          "data": {
            "text/html": [
              "<html>\n",
              "<head><meta charset=\"utf-8\" /></head>\n",
              "<body>\n",
              "    <div>\n",
              "            <script src=\"https://cdnjs.cloudflare.com/ajax/libs/mathjax/2.7.5/MathJax.js?config=TeX-AMS-MML_SVG\"></script><script type=\"text/javascript\">if (window.MathJax) {MathJax.Hub.Config({SVG: {font: \"STIX-Web\"}});}</script>\n",
              "                <script type=\"text/javascript\">window.PlotlyConfig = {MathJaxConfig: 'local'};</script>\n",
              "        <script src=\"https://cdn.plot.ly/plotly-latest.min.js\"></script>    \n",
              "            <div id=\"e7c98280-cc5d-4fa7-a479-17fc61cb5728\" class=\"plotly-graph-div\" style=\"height:500px; width:500px;\"></div>\n",
              "            <script type=\"text/javascript\">\n",
              "                \n",
              "                    window.PLOTLYENV=window.PLOTLYENV || {};\n",
              "                    \n",
              "                if (document.getElementById(\"e7c98280-cc5d-4fa7-a479-17fc61cb5728\")) {\n",
              "                    Plotly.newPlot(\n",
              "                        'e7c98280-cc5d-4fa7-a479-17fc61cb5728',\n",
              "                        [{\"hoverlabel\": {\"namelength\": 0}, \"hovertemplate\": \"YearsExperience=%{x}<br>Salary=%{y}\", \"legendgroup\": \"\", \"line\": {\"color\": \"#636efa\", \"dash\": \"solid\"}, \"mode\": \"lines\", \"name\": \"\", \"showlegend\": false, \"type\": \"scatter\", \"x\": [1.1, 1.3, 1.5, 2.0, 2.2, 2.9, 3.0, 3.2, 3.2, 3.7, 3.9, 4.0, 4.0, 4.1, 4.5, 4.9, 5.1, 5.3, 5.9, 6.0, 6.8, 7.1, 7.9, 8.2, 8.7, 9.0, 9.5, 9.6, 10.3, 10.5], \"xaxis\": \"x\", \"y\": [39343.0, 46205.0, 37731.0, 43525.0, 39891.0, 56642.0, 60150.0, 54445.0, 64445.0, 57189.0, 63218.0, 55794.0, 56957.0, 57081.0, 61111.0, 67938.0, 66029.0, 83088.0, 81363.0, 93940.0, 91738.0, 98273.0, 101302.0, 113812.0, 109431.0, 105582.0, 116969.0, 112635.0, 122391.0, 121872.0], \"yaxis\": \"y\"}],\n",
              "                        {\"height\": 500, \"legend\": {\"tracegroupgap\": 0}, \"template\": {\"data\": {\"bar\": [{\"error_x\": {\"color\": \"#2a3f5f\"}, \"error_y\": {\"color\": \"#2a3f5f\"}, \"marker\": {\"line\": {\"color\": \"#E5ECF6\", \"width\": 0.5}}, \"type\": \"bar\"}], \"barpolar\": [{\"marker\": {\"line\": {\"color\": \"#E5ECF6\", \"width\": 0.5}}, \"type\": \"barpolar\"}], \"carpet\": [{\"aaxis\": {\"endlinecolor\": \"#2a3f5f\", \"gridcolor\": \"white\", \"linecolor\": \"white\", \"minorgridcolor\": \"white\", \"startlinecolor\": \"#2a3f5f\"}, \"baxis\": {\"endlinecolor\": \"#2a3f5f\", \"gridcolor\": \"white\", \"linecolor\": \"white\", \"minorgridcolor\": \"white\", \"startlinecolor\": \"#2a3f5f\"}, \"type\": \"carpet\"}], \"choropleth\": [{\"colorbar\": {\"outlinewidth\": 0, \"ticks\": \"\"}, \"type\": \"choropleth\"}], \"contour\": [{\"colorbar\": {\"outlinewidth\": 0, \"ticks\": \"\"}, \"colorscale\": [[0.0, \"#0d0887\"], [0.1111111111111111, \"#46039f\"], [0.2222222222222222, \"#7201a8\"], [0.3333333333333333, \"#9c179e\"], [0.4444444444444444, \"#bd3786\"], [0.5555555555555556, \"#d8576b\"], [0.6666666666666666, \"#ed7953\"], [0.7777777777777778, \"#fb9f3a\"], [0.8888888888888888, \"#fdca26\"], [1.0, \"#f0f921\"]], \"type\": \"contour\"}], \"contourcarpet\": [{\"colorbar\": {\"outlinewidth\": 0, \"ticks\": \"\"}, \"type\": \"contourcarpet\"}], \"heatmap\": [{\"colorbar\": {\"outlinewidth\": 0, \"ticks\": \"\"}, \"colorscale\": [[0.0, \"#0d0887\"], [0.1111111111111111, \"#46039f\"], [0.2222222222222222, \"#7201a8\"], [0.3333333333333333, \"#9c179e\"], [0.4444444444444444, \"#bd3786\"], [0.5555555555555556, \"#d8576b\"], [0.6666666666666666, \"#ed7953\"], [0.7777777777777778, \"#fb9f3a\"], [0.8888888888888888, \"#fdca26\"], [1.0, \"#f0f921\"]], \"type\": \"heatmap\"}], \"heatmapgl\": [{\"colorbar\": {\"outlinewidth\": 0, \"ticks\": \"\"}, \"colorscale\": [[0.0, \"#0d0887\"], [0.1111111111111111, \"#46039f\"], [0.2222222222222222, \"#7201a8\"], [0.3333333333333333, \"#9c179e\"], [0.4444444444444444, \"#bd3786\"], [0.5555555555555556, \"#d8576b\"], [0.6666666666666666, \"#ed7953\"], [0.7777777777777778, \"#fb9f3a\"], [0.8888888888888888, \"#fdca26\"], [1.0, \"#f0f921\"]], \"type\": \"heatmapgl\"}], \"histogram\": [{\"marker\": {\"colorbar\": {\"outlinewidth\": 0, \"ticks\": \"\"}}, \"type\": \"histogram\"}], \"histogram2d\": [{\"colorbar\": {\"outlinewidth\": 0, \"ticks\": \"\"}, \"colorscale\": [[0.0, \"#0d0887\"], [0.1111111111111111, \"#46039f\"], [0.2222222222222222, \"#7201a8\"], [0.3333333333333333, \"#9c179e\"], [0.4444444444444444, \"#bd3786\"], [0.5555555555555556, \"#d8576b\"], [0.6666666666666666, \"#ed7953\"], [0.7777777777777778, \"#fb9f3a\"], [0.8888888888888888, \"#fdca26\"], [1.0, \"#f0f921\"]], \"type\": \"histogram2d\"}], \"histogram2dcontour\": [{\"colorbar\": {\"outlinewidth\": 0, \"ticks\": \"\"}, \"colorscale\": [[0.0, \"#0d0887\"], [0.1111111111111111, \"#46039f\"], [0.2222222222222222, \"#7201a8\"], [0.3333333333333333, \"#9c179e\"], [0.4444444444444444, \"#bd3786\"], [0.5555555555555556, \"#d8576b\"], [0.6666666666666666, \"#ed7953\"], [0.7777777777777778, \"#fb9f3a\"], [0.8888888888888888, \"#fdca26\"], [1.0, \"#f0f921\"]], \"type\": \"histogram2dcontour\"}], \"mesh3d\": [{\"colorbar\": {\"outlinewidth\": 0, \"ticks\": \"\"}, \"type\": \"mesh3d\"}], \"parcoords\": [{\"line\": {\"colorbar\": {\"outlinewidth\": 0, \"ticks\": \"\"}}, \"type\": \"parcoords\"}], \"pie\": [{\"automargin\": true, \"type\": \"pie\"}], \"scatter\": [{\"marker\": {\"colorbar\": {\"outlinewidth\": 0, \"ticks\": \"\"}}, \"type\": \"scatter\"}], \"scatter3d\": [{\"line\": {\"colorbar\": {\"outlinewidth\": 0, \"ticks\": \"\"}}, \"marker\": {\"colorbar\": {\"outlinewidth\": 0, \"ticks\": \"\"}}, \"type\": \"scatter3d\"}], \"scattercarpet\": [{\"marker\": {\"colorbar\": {\"outlinewidth\": 0, \"ticks\": \"\"}}, \"type\": \"scattercarpet\"}], \"scattergeo\": [{\"marker\": {\"colorbar\": {\"outlinewidth\": 0, \"ticks\": \"\"}}, \"type\": \"scattergeo\"}], \"scattergl\": [{\"marker\": {\"colorbar\": {\"outlinewidth\": 0, \"ticks\": \"\"}}, \"type\": \"scattergl\"}], \"scattermapbox\": [{\"marker\": {\"colorbar\": {\"outlinewidth\": 0, \"ticks\": \"\"}}, \"type\": \"scattermapbox\"}], \"scatterpolar\": [{\"marker\": {\"colorbar\": {\"outlinewidth\": 0, \"ticks\": \"\"}}, \"type\": \"scatterpolar\"}], \"scatterpolargl\": [{\"marker\": {\"colorbar\": {\"outlinewidth\": 0, \"ticks\": \"\"}}, \"type\": \"scatterpolargl\"}], \"scatterternary\": [{\"marker\": {\"colorbar\": {\"outlinewidth\": 0, \"ticks\": \"\"}}, \"type\": \"scatterternary\"}], \"surface\": [{\"colorbar\": {\"outlinewidth\": 0, \"ticks\": \"\"}, \"colorscale\": [[0.0, \"#0d0887\"], [0.1111111111111111, \"#46039f\"], [0.2222222222222222, \"#7201a8\"], [0.3333333333333333, \"#9c179e\"], [0.4444444444444444, \"#bd3786\"], [0.5555555555555556, \"#d8576b\"], [0.6666666666666666, \"#ed7953\"], [0.7777777777777778, \"#fb9f3a\"], [0.8888888888888888, \"#fdca26\"], [1.0, \"#f0f921\"]], \"type\": \"surface\"}], \"table\": [{\"cells\": {\"fill\": {\"color\": \"#EBF0F8\"}, \"line\": {\"color\": \"white\"}}, \"header\": {\"fill\": {\"color\": \"#C8D4E3\"}, \"line\": {\"color\": \"white\"}}, \"type\": \"table\"}]}, \"layout\": {\"annotationdefaults\": {\"arrowcolor\": \"#2a3f5f\", \"arrowhead\": 0, \"arrowwidth\": 1}, \"coloraxis\": {\"colorbar\": {\"outlinewidth\": 0, \"ticks\": \"\"}}, \"colorscale\": {\"diverging\": [[0, \"#8e0152\"], [0.1, \"#c51b7d\"], [0.2, \"#de77ae\"], [0.3, \"#f1b6da\"], [0.4, \"#fde0ef\"], [0.5, \"#f7f7f7\"], [0.6, \"#e6f5d0\"], [0.7, \"#b8e186\"], [0.8, \"#7fbc41\"], [0.9, \"#4d9221\"], [1, \"#276419\"]], \"sequential\": [[0.0, \"#0d0887\"], [0.1111111111111111, \"#46039f\"], [0.2222222222222222, \"#7201a8\"], [0.3333333333333333, \"#9c179e\"], [0.4444444444444444, \"#bd3786\"], [0.5555555555555556, \"#d8576b\"], [0.6666666666666666, \"#ed7953\"], [0.7777777777777778, \"#fb9f3a\"], [0.8888888888888888, \"#fdca26\"], [1.0, \"#f0f921\"]], \"sequentialminus\": [[0.0, \"#0d0887\"], [0.1111111111111111, \"#46039f\"], [0.2222222222222222, \"#7201a8\"], [0.3333333333333333, \"#9c179e\"], [0.4444444444444444, \"#bd3786\"], [0.5555555555555556, \"#d8576b\"], [0.6666666666666666, \"#ed7953\"], [0.7777777777777778, \"#fb9f3a\"], [0.8888888888888888, \"#fdca26\"], [1.0, \"#f0f921\"]]}, \"colorway\": [\"#636efa\", \"#EF553B\", \"#00cc96\", \"#ab63fa\", \"#FFA15A\", \"#19d3f3\", \"#FF6692\", \"#B6E880\", \"#FF97FF\", \"#FECB52\"], \"font\": {\"color\": \"#2a3f5f\"}, \"geo\": {\"bgcolor\": \"white\", \"lakecolor\": \"white\", \"landcolor\": \"#E5ECF6\", \"showlakes\": true, \"showland\": true, \"subunitcolor\": \"white\"}, \"hoverlabel\": {\"align\": \"left\"}, \"hovermode\": \"closest\", \"mapbox\": {\"style\": \"light\"}, \"paper_bgcolor\": \"white\", \"plot_bgcolor\": \"#E5ECF6\", \"polar\": {\"angularaxis\": {\"gridcolor\": \"white\", \"linecolor\": \"white\", \"ticks\": \"\"}, \"bgcolor\": \"#E5ECF6\", \"radialaxis\": {\"gridcolor\": \"white\", \"linecolor\": \"white\", \"ticks\": \"\"}}, \"scene\": {\"xaxis\": {\"backgroundcolor\": \"#E5ECF6\", \"gridcolor\": \"white\", \"gridwidth\": 2, \"linecolor\": \"white\", \"showbackground\": true, \"ticks\": \"\", \"zerolinecolor\": \"white\"}, \"yaxis\": {\"backgroundcolor\": \"#E5ECF6\", \"gridcolor\": \"white\", \"gridwidth\": 2, \"linecolor\": \"white\", \"showbackground\": true, \"ticks\": \"\", \"zerolinecolor\": \"white\"}, \"zaxis\": {\"backgroundcolor\": \"#E5ECF6\", \"gridcolor\": \"white\", \"gridwidth\": 2, \"linecolor\": \"white\", \"showbackground\": true, \"ticks\": \"\", \"zerolinecolor\": \"white\"}}, \"shapedefaults\": {\"line\": {\"color\": \"#2a3f5f\"}}, \"ternary\": {\"aaxis\": {\"gridcolor\": \"white\", \"linecolor\": \"white\", \"ticks\": \"\"}, \"baxis\": {\"gridcolor\": \"white\", \"linecolor\": \"white\", \"ticks\": \"\"}, \"bgcolor\": \"#E5ECF6\", \"caxis\": {\"gridcolor\": \"white\", \"linecolor\": \"white\", \"ticks\": \"\"}}, \"title\": {\"x\": 0.05}, \"xaxis\": {\"automargin\": true, \"gridcolor\": \"white\", \"linecolor\": \"white\", \"ticks\": \"\", \"title\": {\"standoff\": 15}, \"zerolinecolor\": \"white\", \"zerolinewidth\": 2}, \"yaxis\": {\"automargin\": true, \"gridcolor\": \"white\", \"linecolor\": \"white\", \"ticks\": \"\", \"title\": {\"standoff\": 15}, \"zerolinecolor\": \"white\", \"zerolinewidth\": 2}}}, \"title\": {\"text\": \"Salary vs Experience Data\"}, \"width\": 500, \"xaxis\": {\"anchor\": \"y\", \"domain\": [0.0, 1.0], \"title\": {\"text\": \"YearsExperience\"}}, \"yaxis\": {\"anchor\": \"x\", \"domain\": [0.0, 1.0], \"title\": {\"text\": \"Salary\"}}},\n",
              "                        {\"responsive\": true}\n",
              "                    ).then(function(){\n",
              "                            \n",
              "var gd = document.getElementById('e7c98280-cc5d-4fa7-a479-17fc61cb5728');\n",
              "var x = new MutationObserver(function (mutations, observer) {{\n",
              "        var display = window.getComputedStyle(gd).display;\n",
              "        if (!display || display === 'none') {{\n",
              "            console.log([gd, 'removed!']);\n",
              "            Plotly.purge(gd);\n",
              "            observer.disconnect();\n",
              "        }}\n",
              "}});\n",
              "\n",
              "// Listen for the removal of the full notebook cells\n",
              "var notebookContainer = gd.closest('#notebook-container');\n",
              "if (notebookContainer) {{\n",
              "    x.observe(notebookContainer, {childList: true});\n",
              "}}\n",
              "\n",
              "// Listen for the clearing of the current output cell\n",
              "var outputEl = gd.closest('.output');\n",
              "if (outputEl) {{\n",
              "    x.observe(outputEl, {childList: true});\n",
              "}}\n",
              "\n",
              "                        })\n",
              "                };\n",
              "                \n",
              "            </script>\n",
              "        </div>\n",
              "</body>\n",
              "</html>"
            ]
          },
          "metadata": {
            "tags": []
          }
        }
      ]
    },
    {
      "cell_type": "code",
      "metadata": {
        "colab": {
          "base_uri": "https://localhost:8080/"
        },
        "id": "-wsdREQIsNZD",
        "outputId": "247a3afa-eb52-4aac-cc15-d591f19777d7"
      },
      "source": [
        "#Hypothesis\n",
        "parameters = {'y_intercept' : 1000, 'slope':5000 }\n",
        "def y_hat(experience, params):\n",
        "  y_intercept = params['y_intercept']\n",
        "  slope = params['slope']\n",
        "  return y_intercept + slope * experience\n",
        "\n",
        "y_hat(5, parameters)"
      ],
      "execution_count": 47,
      "outputs": [
        {
          "output_type": "execute_result",
          "data": {
            "text/plain": [
              "26000"
            ]
          },
          "metadata": {
            "tags": []
          },
          "execution_count": 47
        }
      ]
    },
    {
      "cell_type": "markdown",
      "metadata": {
        "id": "iLNLLpxfuHTJ"
      },
      "source": [
        "<h3>Linear Regression Using Least Square Method</h3>"
      ]
    },
    {
      "cell_type": "markdown",
      "metadata": {
        "id": "VbZJfV5ZEyvq"
      },
      "source": [
        "![image.png](data:image/png;base64,iVBORw0KGgoAAAANSUhEUgAAAUoAAACsCAYAAAAdQ+UuAAAgAElEQVR4Ae2dv4vbSvv29WeoXUjxLDxFtluXMaSI4Sli2OIYUgRzimBSHEyKYNIsJsViUoTlFMGkCDi8HPAWAac4oG0C2iKgLb7gFAGnSOFiCxUpVKS4XkbS6LctyZLXlvYKhLU10mjuz8iXZu65Z0YB/5EACZAACawloKxNZSIJkAAJkAAolHwISIAESCCFAIUyBRCTSYAESIBCyWeABEiABFIIUChTADGZBEiABCiUfAZIgARIIIUAhTIFEJNJgARIgELJZ4AESIAEUghQKFMAMZkESIAEKJR8BkiABEgghQCFMgUQk0mABEiAQslngARIgARSCFAoUwAxmQRIgAQolHwGSIAESCCFAIUyBRCTSYAESIBCyWeABEiABFIIUChTADGZBEiABCiUfAZIgARIIIUAhTIFEJNJgARIgELJZ4AESIAEUghQKFMAMZkESIAEKJQVeQbMb1OMzwbonTTRuNfF9Aawvk3Qf3QARVFw8HwGsyK2sJgkUDUCFMoyaux6hIai2IIlRKuc/21MfkQKdz3Cocj/6RSLqyE6r2ZY/tIwEMfUIfTI6fxKAiRQDgEKZTkcsfjQLkkgpdDGhdL81LPv0Xk9QvfpBIvfAJZTdBQFR6+NkixhNiRAAlECFMookY2/LzB5oobF8uE55lnz+7XE/PMI7XurhNKC9sJNOx5Cd/vZ1r99KMoRhl+z3mgL5/1eYPpXB6Ov1hYy38MsrSWMSw3a2v/zkCtEvOQ6r/XQsVyW3TXGN/MUvhq0r0vYT9zNDL0/htBvchHNdTKFMheulJN/TtFRpdA5f49e6U5lplzqJf+YuHlEW5Q6hnbeRxhc+t5I/VSFog6gi9blLv79mKL3oIXRV79MuyjGrd7z5wTtVBfLIOYKMf8doPFoBONXztLeRcZXw3CjI4n34wkWEuWNhsFxC6Pr7bysKZQSdEl/RQtPDVXqIQaX+Spv8b4FRYkI5fUIRyLfk8DDAQOj+wqU57N8YlySrbBFvYHhlzskkgXZLT52oIoeQVaxJOPsxCWrq3y/tyw3oFBmoZTrHAv6aSPyNoyIXlp+38doRYRy8a5p59m9CIjS9zGaigL72A8Ns/9Ly7jEdLf13Po7s3OhxJtXOSsL+qujyAtvhT1kvALM6sPWlwGOIr+d1WdnT6FQZmeV/cxfOobH4S54uCWYlpWBoRoU1wXGD0V+TliQvNp4c2S3PMdfNQz/cgd3ZOJW/y4xFf7Y4xGMXXX5t2rfljP/paGvKmi/9zqOCTck4wQoGQ4JX74K5fHY75ZnuCrtFAplGqFN0+1WYVgss/srLSy/6ljI7pn0iT2dhgYDlv907G7+wck5jEBDc9MiZ71Ouhe6/yyzXsLzIgSMM/GSC7/4gqeQcZBGzs+umyrU+8qZRfR0CmWUSInfbX9UyF95hMGX8v0nJRY5Q1YLjB+5rVvqZAZeK065Gtovuea7pFYlGa+glvGwO/D5sLxWJYUyI/rNTksIGRL+k5+b5bYXV8lBpSyhT78tLK41TN+PMHo7xVy2kG1DTCw+jzE6O8f0WwVfHkVtszT0xUv0P0PEImBTGVswl3Pol/5srd5F9K1lwXjbRfNhF+dbGgne1vNomQsYlzNM3o7Qf9pE+40RG6xcfOqj/bCN/qekF40MpTssLWyOQrmt2pb5ihivSMhQPn+lzGg//spBJeWltrZAy08D9F+NMXnf82YttTyf3ALTp87US3sWU8SlsDbjPUgsxzbpdz7E6DpsVCpjEcd5bcC4GKIln637o4jgCj+36/qJpYXvt1/fTMyvDBiXY/Q8P38Ps5BrSfhvpVsrmuZYIxkensVeQxuZS6HcCFu+i5yROFmxzt+jkiowX0mKnm1i9swpv3qadcKkielT1/YnU4gQYf20ic6HBSw3cHu+xUDhohavv76IbUtMThwu/gtE3C0fY+nLFJMOooILEX8pxKZSQhkgHvDzx/yNpoHR/8QEj2ShXH50Z8r9r5zuN4UyUC/b+5gUMlRFf+UCk8fOj7v9IanLk0zQn945wPhDB83TnEH4ydnuxdEitumn7gvkVfClk5exG0srprG+ibeehGBkf6ntBdJAIQIvomcJi76IoPSTCaJOBzsDL2A9HvgfuEHmjxTKzKgKnmgZsZAh1W5hFcz3Vi/XMXQHp/IIJaTPTVx7PISxxiU5/7sJVWlgWJXpkDlsi1aVJ5TBGSbIz9ienSXYxgYvnFCZ8ISHOc4fiNCu9fUQLeuuvnstQ6UPLfLciO51uDUeKKUnlMEwu0B6zo8UypzACp0e6EqIB1XO1y6U561enP9HbBdPDlwoCtIEVv7o84YeeaLjCnnuFZxCrbocUHPYFs3VK3NBoRTdb8feiCjcTNGNdbvlVNgupolNsWgp5XffVZCb7SYvV3lbd1KFuOfgizwo/oqW9OrwKlAog7Cq9dn3J7Uxji6hVglT/AGCNMELm+N3J9O7gRZM04yNcobzi3/zROe2hRJ5bAuX2ytzSCg3YGzO0HPt7n3yRz0W71rOrK3wbQHLhGlGmmfRc2LfdySUcppuxLUgfkuNdX5+CmWsBqtxwFvsQrUHMqpR6Ggp/R9LI8fURetq6I18V3ZgIYrC/V7ENk8oQ63ZTRj71ygyLxFtIWZOrSh3lQ7LXobivVAMjI7XtCaFcZ5Q0kdZnboOTGlsnBZYaktYbM7Qv6egVP/m7yU0EXP3ZIVjPEDaeO0uJSd/kIG0xI+27W2MPwzcxUJWx5Fa5hLzKw3Tz/G4ucS8d30wh23xovriFp3KmJsxABkO44iJM3gYbF3a9//tx1/OquIDBuC7FhzRE37LRsLAVZCx59ssaSojfZRBulv5HBjxfnSOedG50XI64/1h8XnWv5fQPwzQeeDGNK4aQQxw8R7aDOcCIt7tAJ2PCyDgy/N/wCbm9pqCYsrmDCM3XKaZo7UaKNotf8xq26piyTjKeFhPPsZu/l8Grp+yj9n1GK1HkbAYEYol1ju1u+hNnH9bVa49PP5DLmvXhFjXoH+vDy00eSFeZvniKCsMj0IZZ1zqEW8ao9qJb+2w6Z1+mTBTHpRMWf+2HF+gfBCziJ/nD0vu0limCen+WoRCgfwWlPpSg7iziKfs/yt9ZXI2RVw4MtlyCydtbltC4eSLI2kt0RTGCbnZPQ3HT3mEo/srogbkPWMDPIk57tHBQAjU/QY6qWsMyGdJjQwAbW4ShXJzdulXenvp7PmajbKVmkUoYUF7Kbrf8Rkl8Eb1D9B4cIiDJ8G1MwPdQ6WB9h/NSDyl/DH0MCvjJZBeO/nOKGRbwq3cud7JAxJrGCdk5RyS/BSsXHxFhjLtav3SlWVPS/CD8LPNanNH9ktc3YpCmVZHm6YH/ZLrRudW5S/EKzqfWoxW/jCgfZ5CK3PUPJdQAnDPP4zu02MZGIkYPUXF4R/n8ZW8xSrUdvoB2mcRX60MA9nX6YxFbIvVsSuEam91iM4qxrG85AE3OPv+YOWiwLI7GpvlIrPY47/G2WF8MesV5bUuhT9cRXz++4oLMhymUGaAlP8UfzEMVbSqNvBLmhfd8MrlYg+RD31nlXMxbavMVldeoRRRbG/E4sSRuL38oLwr5MZp+cKOvMur9cFunaqO73ZNyfMxnuP8YQPDlat7y1ZZeXW2puglJ1mYPU/n5dzUWXnJ/t2VWAoKZYkwZVbetLaNg8qdyo4NasRaXX4AeOYg4KQ52hsIJUT8oFi8N7Q1hSSQ96/0KVVskCGvmfb5Drds0Q/ZGQtf+NqpodI/Ge2lbGTD7V4kQrBEREaWSbPeVht+OGkphaVQloLRz8SPq1v3dvfPT/okBkHEvjuDy3CqbHX5AmpivnYnwISdAr8lPEEbCSUA4V54oKL99zx3gHjYMte/Zg8yWDA+acnzd8MXVfCbEwHReD7N3svIwDiTkLj+SXsU+JeB2WWuaTm7Yy3ijx9k22PI/u0d9zAt0y3lWk6hLPMRCCyp1npjYClGgHP8X37TMP5LzHUWiyVEZ+/IVtcWRoU3FUrB7tcc46cHxcTS3ZtceTmF8a5f083KTGgvW2i/1WHmdcVEGC+vNWjXrtBlFBKxGr49DfDCwPiv/Z0+a37XoV0tnJX87ZdEtmgRscNl6+R8a1vWUihLE0rfL5m5G7x2ut0AWugH5ba6ksJJitpQRCjte5uYfxxhsunmZpaOgdjP/F4L/YssHayiBt/+9eanc4yvE1rzmYviMv5/zsroYsCs+WcX7UfZRE8s9XegKDh41N9KiyuzGetOlC9MUc6THrqPutlC6m5mOH9v5H8BrStLJI1CGQGy2ddAUPla8XOX1cpyjjddyy2R9E+GQjt26aPcjBSvKkhARg6oh+icaViGXqYF89755XOMT8TkhwO0XkwwL/JeKdkWCmUJQJMW5i3cqoxMEZT+yfDWtDv2UZbAjlmQQBUIUCiL1tKNjvGbEUZn5f4fX4Vfp8783zbGX2YYlL01bZ6ZOUV58XoSqCABCmVFKk2EHIkgWjuQO6yhm1tgb8UwxdBeUl+4BRrovZ9Bs+dfb54trySBuhEoRSidXdPEjnB9dB82cBiI1VtejtA9dv0OZ+EtABafh+j8V8zkOED7bUVWjKnbE0B7SIAEUgkUF0oxY+RyitETsaG7M1jhLHRgQX/dxMGDLrpei6XjTtlaYPa8ATWUlrxJUKoFPIEESIAEtkyguFC6BZRxWs6uaG5g7UvNiYcKLAGlWW6auy6jt27cit3UEu2X4SxZRo9XnlPFqVyJNHiQBEhgywRKE0pvsdGTCYxPPXs6lXSlycn4YrqbHplqpb9yQ2YyrVzj0qBQbvmxYPYkQAJBAiUJpVyEVEHzhVgINrjDm+ntBd143kMnNGfTXxqq+a4agcbSvcC/7gtuZYud6XxG9u8ZCIpfns/lCKW30KgCVW1j/D1YBLnrmwIlunitDEtJ2rw9mMUefebDv38PP+uEdZL1GdhUSkoRSm/pekWJ72UhFwtVFLQirUYZRK2oQwS3gN/UGF5HAiRAAtsgUIpQerukKfGd0Tz/ZEKad90LsTUA/5EACZDAfhIoQSh9P6OzF0rQUNPzT8bT/Ov8zaaC1675zMGcNXCYRAIkUDaB4kIpF2tQVAwuI+1CuVioogQ2kXJN8MROhuksoL3PuA6hd20R34y8b9lImR8JkEDdCBQWSq9rrQ6gRXXS3rtCiFk/nvZv3wlQdxdrFTvy2dua1o0w7SEBEqg8gYJC6W9BqiT4GT0f5JNpbMVqL+7y4QDnr1pov+EUxso/TTSABGpKoJhQBsKC4n5G3weZFCO5vOjaC4mq/+1gVJVl6Wv6ENAsEiCB9QSKCeX6vJlKAiRAArUgQKGsRTXuwggT84sxRq96aD9s4MDej9vC/GMfLbGtg3KA3mc5iXUX5eM9Sydwo2P0tIlD1RlEPTju3pneIIWy9KdpPzJcXvTcTcqKRAZErx3EJgYYb8TG9Aq6FwvorzsYfF5CbEAvjqmB5fb2gwpLsTEBsYmZKvbpGdiLVPf/OHSfLxWdfyqyo+PGxgMUygLw9vtSC/orf+m7rFO81p8XFUrTjZPtYHjWRfeDM1/fWUnqCMOvOyRkGjj/o+cu67fDctTi1qKeD2JRKfYe2mKu/x2YWUehrMWDvMIIsd3ncaRVGNqcbMV17mGxILP+vo+m29VSlIhQBuJkG+6yeYC7re79IYwdbXxlfh2h9WA7+zuvJ7bDVHtd2IR93IP7vkdWrhdTiDuvdWcpxHVFF4O2iat7yQHbNiY/12VQ/TQKZfXrcK0F1tchGpEVftpuy2/thYFEe2N5O4+IUF65W6feH0Dz3JHOIihqZHO0QHZb/Wh+GaIRXXxlq3fck8yvht7C2St7BdGdPQGI/bAbj0Ywfq2x47cFMxIj7ZwtwwPjcdJrcqtkEoWyktWWr9CLd63Ij6iN8Y88eVjQXootO8JCabxxuvYh4XUXQel9Tvxl5blp7nOdl4KKPgeRcrGzu9DHQ+jrxDIxR7dFaQ/kJZ5Qm4MUytpU5TpDFpg8EUIX6IbfH+T6YYgBGjUklHIN0vBCKM5MLefY4t8Z5rfV/bYM282gPotPblhHhmmCgOvPPpkg16qw38doKUcYXt3+S/G2641CedvEd3U/e9QyIJSKgqNX4c3e1hZtOUUnKJRyjn+oNeG2MB6PYVwO0c/ZxV97/5REp9W84wGklDLudfIvDX1VQft9VqkUvmgVwjddf5nkqPdeP7tlF06sG6oGW5WKglC3ee0NTcwv557jX+511L3wnJMAlpjaLVdnV81gytqsiyZaGgZiwGmHA0hFTdiH640z4UoJ9xBWlcv6MkAjtFvBqjPrcZwtynrUY0YrnI3dQl1wpfqrKHkLQOcY0c8I7G6d5g7OJU05DoKwvo3RfbSJTzOYS7U+UyirVV/FS5sUMnR/CL2y/Sc3HEm0jrN0Gy0T86sZJm9HGL2PhMb8XkL/eI7R2Rj6TXHUt55DUdtkuNd/hjBWFV64cB7cLZEUKCiUqx6IOh+/HsVChnL5K/eKjYzlU9D+uG6GiAXjbQ+DtxNMXre8WSXeGqriBfLAH/A6OFspFXtlvVOYsmyTA3SHGF0nmLlSJMVgUB+zW/O1JJRty4colFsGvK/ZLz60w6Pg9jTEKj7pOgau33XwJSttX1zV10IQRVRAE8MvJqybOfRLHYvcoTJZ773t84rYJuMiFbSirfMfM/SOFTT/HNpTGEdnI++vmM548LLe27lQKLf93O5t/gkhQ1X0VwZWu88ulIC3n/zjc0xqtmh0Edv0UzcyIjhh4EbDIDrDKzQoeJTcAt3bZz9/wSiU+ZnV54qfU3S86YnOD6TxumILKG8olN4AkFi8I2Fhab+S5zgXXfLj4F71furqT37rLDx4Fg7RWpeWPSIhXIrstoWvE988oUyYxRM/++4coVDenbpOtDQYMqSKcI/bChBPLM0GB+34Tkd88rQoIeNAFQXrr5P70ndzLrCxO6HMblucN4UyzkQcoVAmc7kzR73pjaH52lUyX8fQ7Qbmmzbp+zbXDwKJiSsmzOTJznsKKodtEQsolBEg7lcKZTKXO3HUX+yiYQ9kbGq0+bmPA6XkdQmXGs7/FBvOrRvJFiUWQe5OizJPV9VbIkyI7LOZF0i/KYN9uq6IbZ5QBn2U+2TcjspCodwR+J3f1pvSqKJTcKqhnKVzZI8gF7RsqWPyqoOmvUp6WsiPcy9vJ9CsCwUL248HmPztjvyvWk9RrJqzFKPgU8y+ViTQNKttidXkuwsyxaQm5lHPgxTKetZrilX+iLf6opzWlGWasMrwb1qOIMnwpdRusbDUXbFIyTIAYS+e0XAWcvD8lIFR218L6N9MwFrC+DxC2+7WN3H+LQXpPiRntW1lWWUcZYDHynPvVgKF8m7Vt7NSzGnDiaEUS2vtaeikbKVmEkosMH4kut/J85R9ETcR3j9eDtTIuEHxAmlj/N19KORMFXvv+f18UDa2Lckcaa86gF7GSy/pHhU9RqGsaMVtWmwROmIvjFHS4rbih7q41jD7R8u3RFeKAfmEEhD+1iNFie3f4iwPJ7YrOETz+CCy2o0//VFRW+icHIa3O5At1T2dQ17ItiT+7lzvRqVmJSUZUv4xCmX5TPc3x4BfsneRNkiSYIb4IQVEw/ymYfLC3ZcncDzhytyH8golYGL2TIXyn0F43vrPKbrurpCtF7O4mH8boy3S1Sb6H+ehJcOk7zO8QlJuU7Z3QQHb4oVyF2dWuc9QnA3Dg5KY1PNYYDEMf3+bfKaKZbiaf89DF8XEJBAAvi6YOpiW1L3OL5QAXBvLmbcuhFd056u/ulKowlZ9sRfhVcMt6lXn3sHjbFHeiUr3d2TcOKjcXfMxHKsoxSQw2CEGQYIbWmX4bPyMjyhvJJSiLn+IFuRR8e0gpL/u4TnCr4Y6PjDO4N6mL9A6EonaRKGMEqnhdy+ubmO/pBgEEQNAkb12pJhsYbBjY6EU9SfmJj9oFBNL1z95JPx1vwzMLjdwVVTiWXLWKG08n1ZvVtYt8qVQ3iLsndzKW1LtEP2LBUxTzDLJ/n9xPcXo5MBdaWgALTga6orJNnZcLCSUAvTvJbSzUWB3yHz0nb3JFQwuDIz/2t/ogHxWRc82ob1sof1Whxms1+hp/M4pjLV+BgJ+yaBPcOPPj8ehwRDpnwx1x3fpoyyxMsVWBweKgoNHfUxz7VhZYiG2nJX56Rzj6z2ND9uy7XmzZ4syL7HKnO8HlW8sjKGltBQooWlt0j8Z2XFx1z7KytQPC1olAhTKKtVWjrLKmS2liWRsIzIDQ7FE2+Mx9M+D0ndclOVPGhHPgYGnkkApBCiUpWDcs0y+z3AeWIE6uBp1kc+z0DS+BSaPVTuQu/PWKG1RCeunAe1iiJZcJ/O4h/FnDUkj43tGncWpMQEKZY0rl6aRAAmUQ4BCWQ5H5kICJFBjAhTKGlcuTSMBEiiHAIWyHI7MhQRIoMYEKJQ1rlyaRgIkUA4BCmU5HJkLCZBAjQlQKGtcuTSNBEigHAIUynI4MhcSIIEaE6BQ1rhyaRoJkEA5BCiU5XBkLiRAAjUmQKGsceXSNBIggXIIUCjL4chcSIAEakyAQlnjyqVpJEAC5RCgUJbDkbmQAAnUmACFssaVS9NIgATKIUChLIcjcyEBEqgxAQpljSuXppEACZRDgEJZDkfmQgIkUGMCFMoaVy5NIwESKIcAhbIcjsyFBEigxgQolDWuXJpGAiRQDgEKZTkcmQsJkECNCVAoa1y5NI0ESKAcAhTKcjgyFxIggRoToFDWuHJpGgmQQDkEKJTlcGQuJEACNSZAoaxx5dI0EiCBcghQKMvhyFxIgARqTIBCWePKpWkkQALlEKBQlsORuZAACdSYAIWyxpVL00iABMohQKEshyNzIQESqDEBCmWNK5emkQAJlEOAQlkOR+ayisDNHNqltv7/1yWsVdfX7Lj5LYXFpQbj512hUZ3KpVBWp66qWdKrIRRFWf//8QSLalqXu9T6aQoLRUH7w12hkRvfzi6gUO4MPW9MAiRQFQIUyqrUFMtJAiSwMwIUyp2h541JgASqQoBCWZWaYjlJgAR2RoBCuTP0G9zYXEC/GGPwvIvun120/+zj/GIOc4OsbuMSy1zAuJxh8naE/tMm2m+M2Oj24lMf7Ydt9D/t2QDGbwvmDwPaxRijF100jw8xvHKp/V5CO+uicU+Bcq+F0VVglPr3ArPTDg5VkdbG+XUgTUK3TMyvHC6j93q4/n4voX88x+hsDP1GXsC/uyZAodx1DWS6vwn9rI0DpYHeR18YFx/a9mhy43VcgDJlu9WThBgYMC7H6B3Lkd4eZiFVX2L6ZFXaVguXmrkdxnMxQue+LF8fmtC8XzqGDw7Q/LOLlhBDMaL/ZIqlyPHHDL1jNZz2bBYQQgvG2x4GbyeYvG5BtaMBVAwuXTG181a9CIGDMyO1nDzhdghQKG+H8+Z3+WVg9D/x42lgGGy5ICAy6hCZflJZQnXSQnmUAfS81nwfo+Xm270IKSVgSvuiIpr3Jts4P8BYCJ4QsuMGBv86NuivXKF8ocFy04ZfRNoSkxM3LSSUwTIaGLkirL4WtbfA5EkT4nrrZg79UsfiV/B8ft4lAQrlLumn3lv8eJwWRutdtGtqwfi7i2aebuuuhBImpk/XCIco18nEaZWlMrnNEwwM3VZj+6OB2TNHyJwSLDB+6NjU/qA7Iue9yHQM3BdD+6Pd1kwstCe0j88xOW2i8zFax4mX8eAOCFAodwA96y0X71pON+z+EHqCqytrPvtw3vKj4yZQFLcLGyjU4l0Trfd7KBLfx2jagtdE/2UHzaCLw5yhZ6c10HveCYvc9QhH7nXj7wFDIx/NTz2vm63K7nvkHH7dDwIUyv2oh3gpbmboua2ZZqw1GT997494oqNg8CVYWtEF7WKaZeCicIs4n9vAFzIV6uNxePbQ1dD1MSpQn4RnFknfsXJ/tN4lspJJkA8/7wMBCuU+1EJCGfwW2BFG1wknVO6Q75M7euN7VK1/+2hkHbS4VaG0oL1w3QVKI1YHxpsjtzXYQrjVaGL2zLlOPU3z5mbroleuqmtYYArlXlZq8Eca76ruZZEzFEo/dUd0vbndBkbHGVuTGfIv9xTd808qT6eBkWtxF98/GU/zr+v/u95fsvjY8VqlyspBn3KtYm6bEaBQbsZty1cFRk2VYf5R5lWlK9wiEy2lfN3XYFFE69FZIMPJQ7SaG4HWZfDcnX/2/IyB8B1ZKM8/mZDmXZcyiv9jgs7xAJO/Xd+tWmI9y3Lyb2kEKJSloSwzI7/7tk6YzO+LSEsnpQw7Fkr8mKAtBzm+aujf60Pb0xAYMcBki7o6cOInA2h9wY+39j2XiWw1/9AwvoyMfFuGHWZkh3t5fsqAi+XXAvq3SBhV4P78ePsEKJS3zzzTHRfv3RFvJfADCly5+NRD6+k0PMAQSN/PjwE/5f0GOv9EBGRvCu13rdWXWmQ2kQXtpetCEPGToTL7LhPbD2sHkHcw+QFYpgnrtzjZhB4KBfK76s7IvwgJa0f8nqGb8MsOCFAodwA90y3tAGZnUEA5HmDmLuZq3RiY/NVC65WWrzWZ6abbPinQUj4JjxRv+8658v8pW74K4n5GX9jiQu/HXTZfnWPwqI3RtQXrcuD4ItVDNI8P0DjVAwLri6uittA5OQyHGuUqOE/eFgEK5bbIlpGvOcf0tIvmf90WzL0Gmk+HmFzta0ss3Wjj7BCK0rZbWeln7+YMPywowc/o+SCbCa2+JaZPD6AoKg7/GEGT1fRziq6YF64coPViFu8FfBujLdLVJvof5wER3Y39vGucAIUyzoRHtkbAwuy5yhbT1vgy420RoFBuiyzzjRGwroZoRoKzYyfxAAnsIQEK5R5WSi2LJMJhHgyh7+kody2Z06jSCFAoS0PJjIIEzO86tCs3fCkw+hs8h59JoCoEKL6GB4wAAADpSURBVJRVqakqlXM5RceOl1RwcNJD91F3rwdvqoSWZd0NAQrlbrjX/K5zjE/E6K8Y5Z1gztjpmtd3/c2jUNa/jmkhCZBAQQIUyoIAeTkJkED9CVAo61/HtJAESKAgAQplQYC8nARIoP4EKJT1r2NaSAIkUJAAhbIgQF5OAiRQfwIUyvrXMS0kARIoSIBCWRAgLycBEqg/AQpl/euYFpIACRQkQKEsCJCXkwAJ1J8AhbL+dUwLSYAEChKgUBYEyMtJgATqT4BCWf86poUkQAIFCVAoCwLk5SRAAvUnQKGsfx3TQhIggYIE/j+CuRCslwoUBQAAAABJRU5ErkJggg==)"
      ]
    },
    {
      "cell_type": "code",
      "metadata": {
        "colab": {
          "base_uri": "https://localhost:8080/"
        },
        "id": "W96vp7E3yprb",
        "outputId": "6b472c24-8d50-46b6-a52e-a339ae22623b"
      },
      "source": [
        "def learn_parameters(data, params):\n",
        "  x,y = data['YearsExperience'], data['Salary']\n",
        "  x_bar, y_bar = x.mean(), y.mean()\n",
        "  x,y = x.to_numpy(), y.to_numpy()\n",
        "  slope = sum((x-x_bar)*(y-y_bar))/sum((x-x_bar)**2) #slope is a single number\n",
        "  y_intercept = y_bar - (slope*x_bar)\n",
        "  \n",
        "  #update parameters\n",
        "  params['y_intercept'] = y_intercept\n",
        "  params['slope'] = slope\n",
        "\n",
        "\n",
        "new_params = {'y_intercept':0, 'slope':0}\n",
        "learn_parameters(data, new_params)\n",
        "new_params"
      ],
      "execution_count": 48,
      "outputs": [
        {
          "output_type": "execute_result",
          "data": {
            "text/plain": [
              "{'slope': 9449.962321455077, 'y_intercept': 25792.20019866869}"
            ]
          },
          "metadata": {
            "tags": []
          },
          "execution_count": 48
        }
      ]
    },
    {
      "cell_type": "code",
      "metadata": {
        "colab": {
          "base_uri": "https://localhost:8080/"
        },
        "id": "okI5UGVKzuL-",
        "outputId": "6867d28f-8c15-4814-d65e-ce5f4e1ec82a"
      },
      "source": [
        "#untrain Predictions using dummy data\n",
        "demo_experience = list(range(1, 13)) #Dummy Experience\n",
        "print(\"Dummy Experience:\"+str(demo_experience))\n",
        "untrained_predictions = [ y_hat(x,parameters) for x in demo_experience] #saving result of y_hat as a list for each experience\n",
        "print(\"Untrained Predictions:\"+str(untrained_predictions)) #printing predicted values on params slope = 5000,y_intercept = 1000"
      ],
      "execution_count": 55,
      "outputs": [
        {
          "output_type": "stream",
          "text": [
            "Dummy Experience:[1, 2, 3, 4, 5, 6, 7, 8, 9, 10, 11, 12]\n",
            "Untrained Predictions:[6000, 11000, 16000, 21000, 26000, 31000, 36000, 41000, 46000, 51000, 56000, 61000]\n"
          ],
          "name": "stdout"
        }
      ]
    },
    {
      "cell_type": "code",
      "metadata": {
        "colab": {
          "base_uri": "https://localhost:8080/",
          "height": 313
        },
        "id": "ehZ1CRiV2333",
        "outputId": "5b90bbe6-b032-474b-aa21-f9c377291a69"
      },
      "source": [
        "#Plotting Untrained Predictions\n",
        "experience = data['YearsExperience']\n",
        "salary = data['Salary']\n",
        "plt.scatter(experience, salary, label=\"Salary Data\")\n",
        "plt.plot(demo_experience, untrained_predictions, label=\"Untrained Predictions\", color=\"red\")\n",
        "plt.title(\"Salary Vs Experience\")\n",
        "plt.xlabel('Experience')\n",
        "plt.ylabel('Salary')\n",
        "plt.legend()"
      ],
      "execution_count": 56,
      "outputs": [
        {
          "output_type": "execute_result",
          "data": {
            "text/plain": [
              "<matplotlib.legend.Legend at 0x7f0a373d1850>"
            ]
          },
          "metadata": {
            "tags": []
          },
          "execution_count": 56
        },
        {
          "output_type": "display_data",
          "data": {
            "image/png": "[encoded data removed]",
            "text/plain": [
              "<Figure size 432x288 with 1 Axes>"
            ]
          },
          "metadata": {
            "tags": [],
            "needs_background": "light"
          }
        }
      ]
    },
    {
      "cell_type": "code",
      "metadata": {
        "colab": {
          "base_uri": "https://localhost:8080/",
          "height": 350
        },
        "id": "-wjwTJIz37ik",
        "outputId": "5867b794-7a78-402b-d5a1-83da0b903d09"
      },
      "source": [
        "trained_predictions = [ y_hat(x,new_params) for x in demo_experience] #traning model on optimized parameters slope and y_intercept\n",
        "print(trained_predictions)\n",
        "\n",
        "plt.scatter(experience, salary, label=\"Salary Data\")\n",
        "plt.plot(demo_experience, untrained_predictions, label=\"Untrained Predictions\", color=\"red\")\n",
        "\n",
        "#Plotting results of trained model\n",
        "plt.plot(demo_experience, trained_predictions, label=\"Trained Predictions\", color=\"green\") \n",
        "plt.title(\"Salary Vs Experience\")\n",
        "plt.xlabel('Experience')\n",
        "plt.ylabel('Salary')\n",
        "plt.legend()"
      ],
      "execution_count": 57,
      "outputs": [
        {
          "output_type": "stream",
          "text": [
            "[35242.16252012376, 44692.12484157884, 54142.087163033924, 63592.049484489, 73042.01180594409, 82491.97412739915, 91941.93644885422, 101391.89877030932, 110841.86109176438, 120291.82341321948, 129741.78573467454, 139191.7480561296]\n"
          ],
          "name": "stdout"
        },
        {
          "output_type": "execute_result",
          "data": {
            "text/plain": [
              "<matplotlib.legend.Legend at 0x7f0a36001090>"
            ]
          },
          "metadata": {
            "tags": []
          },
          "execution_count": 57
        },
        {
          "output_type": "display_data",
          "data": {
            "image/png": "[encoded data removed]",
            "text/plain": [
              "<Figure size 432x288 with 1 Axes>"
            ]
          },
          "metadata": {
            "tags": [],
            "needs_background": "light"
          }
        }
      ]
    },
    {
      "cell_type": "code",
      "metadata": {
        "colab": {
          "base_uri": "https://localhost:8080/"
        },
        "id": "qf1aOMl66EQz",
        "outputId": "9f26a402-3b5b-4cbd-8737-54e1b34135b6"
      },
      "source": [
        "#Testing model on a new data\n",
        "new_experience = int(input(\"Enter experience in years to predict salary: \"))\n",
        "y_hat(new_experience, new_params)"
      ],
      "execution_count": 59,
      "outputs": [
        {
          "output_type": "stream",
          "text": [
            "Enter experience in years to predict salary: 4\n"
          ],
          "name": "stdout"
        },
        {
          "output_type": "execute_result",
          "data": {
            "text/plain": [
              "63592.049484489"
            ]
          },
          "metadata": {
            "tags": []
          },
          "execution_count": 59
        }
      ]
    },
    {
      "cell_type": "markdown",
      "metadata": {
        "id": "Vp4sKYCi7mZl"
      },
      "source": [
        "Checking Goodness of Fit using R Square Method"
      ]
    },
    {
      "cell_type": "code",
      "metadata": {
        "colab": {
          "base_uri": "https://localhost:8080/"
        },
        "id": "z0W0Z-w77t4k",
        "outputId": "f1f3781b-4f27-4efa-e03a-22262b862205"
      },
      "source": [
        "def R_square(data, params):\n",
        "  x,y = data['YearsExperience'], data['Salary']\n",
        "  y_bar = y.mean()\n",
        "  x,y = x.to_numpy(), y.to_numpy()\n",
        "  y_pred = y_hat(x,params)\n",
        "  ss_r = sum((y - y_pred)**2)\n",
        "  ss_t = sum((y - y_bar)**2)\n",
        "  r_square = 1 - (ss_r/ss_t)\n",
        "  print(r_square)\n",
        "R_square(data, new_params)"
      ],
      "execution_count": 60,
      "outputs": [
        {
          "output_type": "stream",
          "text": [
            "0.9569566641435086\n"
          ],
          "name": "stdout"
        }
      ]
    },
    {
      "cell_type": "markdown",
      "metadata": {
        "id": "okQ1tBMIABfQ"
      },
      "source": [
        "References <br> \n",
        "[A Practical Tutorial to Simple Linear Regression Using Python](https://www.analyticsvidhya.com/blog/2021/03/a-practical-tutorial-to-simple-linear-regression-using-python/) <br>\n",
        "[Dataset](https://www.kaggle.com/karthickveerakumar/salary-data-simple-linear-regression)"
      ]
    }
  ]
}